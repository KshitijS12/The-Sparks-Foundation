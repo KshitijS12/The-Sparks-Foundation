{
 "cells": [
  {
   "cell_type": "markdown",
   "id": "307c6af0",
   "metadata": {},
   "source": [
    "# Author: Kshitij Singh\n",
    "# Project Task 1: Prediction using Supervised ML\n",
    "\n",
    "<font size = 3>The task is to predict percentage of students based on the number of hours they study per day using Simple Linear Regression as the data contains two variables.</font>  "
   ]
  },
  {
   "cell_type": "markdown",
   "id": "aacf35c3",
   "metadata": {},
   "source": [
    "## Importing the Libraries"
   ]
  },
  {
   "cell_type": "code",
   "execution_count": 1,
   "id": "4218cd3c",
   "metadata": {},
   "outputs": [],
   "source": [
    "import numpy as np\n",
    "import pandas as pd\n",
    "import matplotlib.pyplot as plt"
   ]
  },
  {
   "cell_type": "markdown",
   "id": "126f1d83",
   "metadata": {},
   "source": [
    "## Importing the DataSet"
   ]
  },
  {
   "cell_type": "code",
   "execution_count": 2,
   "id": "47a3431f",
   "metadata": {},
   "outputs": [],
   "source": [
    "df = pd.read_csv(\"http://bit.ly/w-data\")"
   ]
  },
  {
   "cell_type": "code",
   "execution_count": 3,
   "id": "cfc4e894",
   "metadata": {},
   "outputs": [
    {
     "data": {
      "text/html": [
       "<div>\n",
       "<style scoped>\n",
       "    .dataframe tbody tr th:only-of-type {\n",
       "        vertical-align: middle;\n",
       "    }\n",
       "\n",
       "    .dataframe tbody tr th {\n",
       "        vertical-align: top;\n",
       "    }\n",
       "\n",
       "    .dataframe thead th {\n",
       "        text-align: right;\n",
       "    }\n",
       "</style>\n",
       "<table border=\"1\" class=\"dataframe\">\n",
       "  <thead>\n",
       "    <tr style=\"text-align: right;\">\n",
       "      <th></th>\n",
       "      <th>Hours</th>\n",
       "      <th>Scores</th>\n",
       "    </tr>\n",
       "  </thead>\n",
       "  <tbody>\n",
       "    <tr>\n",
       "      <th>0</th>\n",
       "      <td>2.5</td>\n",
       "      <td>21</td>\n",
       "    </tr>\n",
       "    <tr>\n",
       "      <th>1</th>\n",
       "      <td>5.1</td>\n",
       "      <td>47</td>\n",
       "    </tr>\n",
       "    <tr>\n",
       "      <th>2</th>\n",
       "      <td>3.2</td>\n",
       "      <td>27</td>\n",
       "    </tr>\n",
       "    <tr>\n",
       "      <th>3</th>\n",
       "      <td>8.5</td>\n",
       "      <td>75</td>\n",
       "    </tr>\n",
       "    <tr>\n",
       "      <th>4</th>\n",
       "      <td>3.5</td>\n",
       "      <td>30</td>\n",
       "    </tr>\n",
       "  </tbody>\n",
       "</table>\n",
       "</div>"
      ],
      "text/plain": [
       "   Hours  Scores\n",
       "0    2.5      21\n",
       "1    5.1      47\n",
       "2    3.2      27\n",
       "3    8.5      75\n",
       "4    3.5      30"
      ]
     },
     "execution_count": 3,
     "metadata": {},
     "output_type": "execute_result"
    }
   ],
   "source": [
    "df.head()"
   ]
  },
  {
   "cell_type": "markdown",
   "id": "54bc64c4",
   "metadata": {},
   "source": [
    "## Analysing the Data"
   ]
  },
  {
   "cell_type": "code",
   "execution_count": 4,
   "id": "36042f72",
   "metadata": {},
   "outputs": [
    {
     "data": {
      "text/plain": [
       "(25, 2)"
      ]
     },
     "execution_count": 4,
     "metadata": {},
     "output_type": "execute_result"
    }
   ],
   "source": [
    "df.shape"
   ]
  },
  {
   "cell_type": "markdown",
   "id": "ae8a5ea1",
   "metadata": {},
   "source": [
    "It is verified that the dataset contains two variables.\n",
    "1. Independent Variable: Hours (This contains the number of hours a student studies per day)\n",
    "2. Dependent Variable: Scores (This is the percentage scored by students)  \n",
    "\n",
    "The dataset contains 25 training examples."
   ]
  },
  {
   "cell_type": "code",
   "execution_count": 5,
   "id": "a6f42970",
   "metadata": {},
   "outputs": [
    {
     "data": {
      "text/html": [
       "<div>\n",
       "<style scoped>\n",
       "    .dataframe tbody tr th:only-of-type {\n",
       "        vertical-align: middle;\n",
       "    }\n",
       "\n",
       "    .dataframe tbody tr th {\n",
       "        vertical-align: top;\n",
       "    }\n",
       "\n",
       "    .dataframe thead th {\n",
       "        text-align: right;\n",
       "    }\n",
       "</style>\n",
       "<table border=\"1\" class=\"dataframe\">\n",
       "  <thead>\n",
       "    <tr style=\"text-align: right;\">\n",
       "      <th></th>\n",
       "      <th>Hours</th>\n",
       "      <th>Scores</th>\n",
       "    </tr>\n",
       "  </thead>\n",
       "  <tbody>\n",
       "    <tr>\n",
       "      <th>count</th>\n",
       "      <td>25.000000</td>\n",
       "      <td>25.000000</td>\n",
       "    </tr>\n",
       "    <tr>\n",
       "      <th>mean</th>\n",
       "      <td>5.012000</td>\n",
       "      <td>51.480000</td>\n",
       "    </tr>\n",
       "    <tr>\n",
       "      <th>std</th>\n",
       "      <td>2.525094</td>\n",
       "      <td>25.286887</td>\n",
       "    </tr>\n",
       "    <tr>\n",
       "      <th>min</th>\n",
       "      <td>1.100000</td>\n",
       "      <td>17.000000</td>\n",
       "    </tr>\n",
       "    <tr>\n",
       "      <th>25%</th>\n",
       "      <td>2.700000</td>\n",
       "      <td>30.000000</td>\n",
       "    </tr>\n",
       "    <tr>\n",
       "      <th>50%</th>\n",
       "      <td>4.800000</td>\n",
       "      <td>47.000000</td>\n",
       "    </tr>\n",
       "    <tr>\n",
       "      <th>75%</th>\n",
       "      <td>7.400000</td>\n",
       "      <td>75.000000</td>\n",
       "    </tr>\n",
       "    <tr>\n",
       "      <th>max</th>\n",
       "      <td>9.200000</td>\n",
       "      <td>95.000000</td>\n",
       "    </tr>\n",
       "  </tbody>\n",
       "</table>\n",
       "</div>"
      ],
      "text/plain": [
       "           Hours     Scores\n",
       "count  25.000000  25.000000\n",
       "mean    5.012000  51.480000\n",
       "std     2.525094  25.286887\n",
       "min     1.100000  17.000000\n",
       "25%     2.700000  30.000000\n",
       "50%     4.800000  47.000000\n",
       "75%     7.400000  75.000000\n",
       "max     9.200000  95.000000"
      ]
     },
     "execution_count": 5,
     "metadata": {},
     "output_type": "execute_result"
    }
   ],
   "source": [
    "df.describe()"
   ]
  },
  {
   "cell_type": "markdown",
   "id": "3f20461d",
   "metadata": {},
   "source": [
    "Main conclusions that can be drawn from the table above:\n",
    "- The average a student studies for is 5.01 hours/day and average percentage scored by students is 51.48%.\n",
    "- The minimum study time which is given by a student is 1.1 hours/day and minimum scores obtained by student is 17%\n",
    "- The maximum hours studied by a student per day is 9.2 and maximum percentage obatined is 95%."
   ]
  },
  {
   "cell_type": "code",
   "execution_count": 6,
   "id": "c8ee44d2",
   "metadata": {},
   "outputs": [
    {
     "data": {
      "image/png": "[encoded data removed]",
      "text/plain": [
       "<Figure size 720x432 with 1 Axes>"
      ]
     },
     "metadata": {
      "needs_background": "light"
     },
     "output_type": "display_data"
    }
   ],
   "source": [
    "plt.figure(figsize = (10,6))\n",
    "\n",
    "plt.scatter(df['Hours'], df['Scores'])\n",
    "\n",
    "plt.title(\"Plot of Scores Obatined vs Number of Hours Studied by a Student\")\n",
    "plt.xlabel('No. of Hours Studied per day')\n",
    "plt.ylabel(\"Percentage Scored\")\n",
    "\n",
    "plt.show()"
   ]
  },
  {
   "cell_type": "markdown",
   "id": "8cb6615e",
   "metadata": {},
   "source": [
    "By looking at the plot it is clearly visible that the relationship between Percentage scored by a student is directly proportional to the Number of hours they study, i.e., it is linear.  \n",
    "Let's go forward with preparing the data set for training the model."
   ]
  },
  {
   "cell_type": "markdown",
   "id": "2307e0aa",
   "metadata": {},
   "source": [
    "## Preparing the Dataset for Model Training"
   ]
  },
  {
   "cell_type": "code",
   "execution_count": 7,
   "id": "296e7c08",
   "metadata": {},
   "outputs": [],
   "source": [
    "#Dividing the dataset into independent variable X and dependent variable y\n",
    "X = df.iloc[:,[0]].values\n",
    "y = df.iloc[:,[1]].values"
   ]
  },
  {
   "cell_type": "code",
   "execution_count": 8,
   "id": "12641d2a",
   "metadata": {},
   "outputs": [],
   "source": [
    "#Dividing the Data into Training and Test Set\n",
    "#Here we keep the test data size to be 1/5th of whole data.\n",
    "from sklearn.model_selection import train_test_split\n",
    "X_train, X_test, y_train, y_test = train_test_split(X, y, test_size = 0.2, random_state =0)"
   ]
  },
  {
   "cell_type": "markdown",
   "id": "a798db92",
   "metadata": {},
   "source": [
    "## Training the model"
   ]
  },
  {
   "cell_type": "code",
   "execution_count": 9,
   "id": "54388807",
   "metadata": {},
   "outputs": [
    {
     "data": {
      "text/plain": [
       "LinearRegression()"
      ]
     },
     "execution_count": 9,
     "metadata": {},
     "output_type": "execute_result"
    }
   ],
   "source": [
    "#Importing the LinearRegression Class\n",
    "from sklearn.linear_model import LinearRegression\n",
    "model = LinearRegression()\n",
    "\n",
    "#Fitting the model onto our training data\n",
    "model.fit(X_train, y_train)"
   ]
  },
  {
   "cell_type": "code",
   "execution_count": 10,
   "id": "db3540c0",
   "metadata": {},
   "outputs": [
    {
     "name": "stdout",
     "output_type": "stream",
     "text": [
      "[2.01816004]\n",
      "[9.91065648]\n"
     ]
    }
   ],
   "source": [
    "#Getting the parameters of our model\n",
    "a = model.intercept_\n",
    "b = model.coef_[0]\n",
    "\n",
    "print(a)\n",
    "print(b)"
   ]
  },
  {
   "cell_type": "markdown",
   "id": "b3cc745c",
   "metadata": {},
   "source": [
    "Using the parameters, i.e., coefficients and intercept, we can get predicted y(percentage scored by students).  \n",
    "These y will form a line as they will follow the equation of line:  \n",
    "y = mX + C, where m = coefficient and C = intercept  \n",
    "I'll use this concept in plotting the regression line of training data.\n",
    "\n",
    "The shorter and easier alternative to get predicted y is by using predict method of the Linear Regression Class. I'll use that in test data."
   ]
  },
  {
   "cell_type": "code",
   "execution_count": 11,
   "id": "64aa1bfa",
   "metadata": {},
   "outputs": [
    {
     "data": {
      "image/png": "[encoded data removed]",
      "text/plain": [
       "<Figure size 720x432 with 1 Axes>"
      ]
     },
     "metadata": {
      "needs_background": "light"
     },
     "output_type": "display_data"
    }
   ],
   "source": [
    "#Sorting X so that there is no overlapping of line using plt.plot function\n",
    "X1 = sorted(X_train) \n",
    "y_pred_train = b*X1 + a\n",
    "\n",
    "plt.figure(figsize = (10,6))\n",
    "\n",
    "plt.scatter(X_train, y_train)\n",
    "plt.plot(X1, y_pred_train,'r--')\n",
    "\n",
    "plt.legend([\"Regression Line\"])\n",
    "plt.title(\"Plot on the training data with the Regression Line\")\n",
    "plt.xlabel('No. of Hours Studied per day')\n",
    "plt.ylabel(\"Percentage Scored\")\n",
    "\n",
    "plt.show()"
   ]
  },
  {
   "cell_type": "markdown",
   "id": "945e16d8",
   "metadata": {},
   "source": [
    "## Predictions on Test Data"
   ]
  },
  {
   "cell_type": "code",
   "execution_count": 12,
   "id": "923f28a8",
   "metadata": {},
   "outputs": [
    {
     "data": {
      "text/html": [
       "<div>\n",
       "<style scoped>\n",
       "    .dataframe tbody tr th:only-of-type {\n",
       "        vertical-align: middle;\n",
       "    }\n",
       "\n",
       "    .dataframe tbody tr th {\n",
       "        vertical-align: top;\n",
       "    }\n",
       "\n",
       "    .dataframe thead th {\n",
       "        text-align: right;\n",
       "    }\n",
       "</style>\n",
       "<table border=\"1\" class=\"dataframe\">\n",
       "  <thead>\n",
       "    <tr style=\"text-align: right;\">\n",
       "      <th></th>\n",
       "      <th>Hours Studies</th>\n",
       "      <th>Actual Scores</th>\n",
       "      <th>Predicted Scores</th>\n",
       "    </tr>\n",
       "  </thead>\n",
       "  <tbody>\n",
       "    <tr>\n",
       "      <th>0</th>\n",
       "      <td>1.5</td>\n",
       "      <td>20.0</td>\n",
       "      <td>16.88</td>\n",
       "    </tr>\n",
       "    <tr>\n",
       "      <th>1</th>\n",
       "      <td>3.2</td>\n",
       "      <td>27.0</td>\n",
       "      <td>33.73</td>\n",
       "    </tr>\n",
       "    <tr>\n",
       "      <th>2</th>\n",
       "      <td>7.4</td>\n",
       "      <td>69.0</td>\n",
       "      <td>75.36</td>\n",
       "    </tr>\n",
       "    <tr>\n",
       "      <th>3</th>\n",
       "      <td>2.5</td>\n",
       "      <td>30.0</td>\n",
       "      <td>26.79</td>\n",
       "    </tr>\n",
       "    <tr>\n",
       "      <th>4</th>\n",
       "      <td>5.9</td>\n",
       "      <td>62.0</td>\n",
       "      <td>60.49</td>\n",
       "    </tr>\n",
       "  </tbody>\n",
       "</table>\n",
       "</div>"
      ],
      "text/plain": [
       "   Hours Studies  Actual Scores  Predicted Scores\n",
       "0            1.5           20.0             16.88\n",
       "1            3.2           27.0             33.73\n",
       "2            7.4           69.0             75.36\n",
       "3            2.5           30.0             26.79\n",
       "4            5.9           62.0             60.49"
      ]
     },
     "execution_count": 12,
     "metadata": {},
     "output_type": "execute_result"
    }
   ],
   "source": [
    "#let's see and compare the actual values and the predicted values in the testing data.\n",
    "y_pred_test = model.predict(X_test)\n",
    "Col = ['Hours Studies', 'Actual Scores', 'Predicted Scores']\n",
    "\n",
    "pd.DataFrame(np.hstack((X_test, y_test, np.around(y_pred_test, 2))), columns = Col)"
   ]
  },
  {
   "cell_type": "markdown",
   "id": "a72f28c6",
   "metadata": {},
   "source": [
    "It can be seen that the difference between the predicted values and the actual value is low."
   ]
  },
  {
   "cell_type": "code",
   "execution_count": 13,
   "id": "19964f16",
   "metadata": {},
   "outputs": [
    {
     "data": {
      "image/png": "[encoded data removed]",
      "text/plain": [
       "<Figure size 576x360 with 1 Axes>"
      ]
     },
     "metadata": {
      "needs_background": "light"
     },
     "output_type": "display_data"
    }
   ],
   "source": [
    "#Plotting the regression line on the test data.\n",
    "p = sorted(X_test)\n",
    "q = model.predict(p)\n",
    "\n",
    "plt.figure(figsize = (8,5))\n",
    "\n",
    "plt.plot(p, q, 'r--')\n",
    "plt.scatter(X_test, y_test)\n",
    "\n",
    "plt.legend([\"Regression Line\"])\n",
    "plt.title(\"Plot on the testing data with the Regression Line\")\n",
    "plt.xlabel('No. of Hours Studied per day')\n",
    "plt.ylabel(\"Percentage Scored\")\n",
    "\n",
    "plt.show()"
   ]
  },
  {
   "cell_type": "markdown",
   "id": "6b90cf25",
   "metadata": {},
   "source": [
    "From the plot above, we can conclude the predicted values are really close to the actual values."
   ]
  },
  {
   "cell_type": "markdown",
   "id": "e0413449",
   "metadata": {},
   "source": [
    "## Error Evaluation\n",
    "To check how well a model performs on the data we check the mean absolute error between the predicted and the actual values."
   ]
  },
  {
   "cell_type": "code",
   "execution_count": 14,
   "id": "cb0f266e",
   "metadata": {},
   "outputs": [
    {
     "name": "stdout",
     "output_type": "stream",
     "text": [
      "The mean absolute error between predicted and actual values in:\n",
      "1. Training set is  5.186601709180368\n",
      "2. Test set is  4.183859899002975\n"
     ]
    }
   ],
   "source": [
    "from sklearn.metrics import mean_absolute_error\n",
    "\n",
    "print(\"The mean absolute error between predicted and actual values in:\")\n",
    "print(\"1. Training set is \",mean_absolute_error(y_train, model.predict(X_train)))\n",
    "print(\"2. Test set is \",mean_absolute_error(y_test, model.predict(X_test)))"
   ]
  },
  {
   "cell_type": "markdown",
   "id": "25cc5519",
   "metadata": {},
   "source": [
    "## Prediciting a Score based on Given Hours\n",
    "The task is to predict a score given that a student has studies 9.25 hours/day."
   ]
  },
  {
   "cell_type": "code",
   "execution_count": 15,
   "id": "2a837827",
   "metadata": {},
   "outputs": [
    {
     "name": "stdout",
     "output_type": "stream",
     "text": [
      "Percentage scored by student who studies 9.25 hours/day is 93.69%\n"
     ]
    }
   ],
   "source": [
    "x = [[9.25]]\n",
    "y = np.around(model.predict(x),2) #rounding off the result\n",
    "\n",
    "print('Percentage scored by student who studies {one} hours/day is {two}%'.format(one = x[0][0], two = y[0][0]))"
   ]
  }
 ],
 "metadata": {
  "kernelspec": {
   "display_name": "Python 3",
   "language": "python",
   "name": "python3"
  },
  "language_info": {
   "codemirror_mode": {
    "name": "ipython",
    "version": 3
   },
   "file_extension": ".py",
   "mimetype": "text/x-python",
   "name": "python",
   "nbconvert_exporter": "python",
   "pygments_lexer": "ipython3",
   "version": "3.8.8"
  }
 },
 "nbformat": 4,
 "nbformat_minor": 5
}
